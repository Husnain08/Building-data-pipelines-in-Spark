{
 "cells": [
  {
   "cell_type": "code",
   "execution_count": 1,
   "id": "nominated-patrick",
   "metadata": {
    "ExecuteTime": {
     "end_time": "2021-04-20T17:26:26.221978Z",
     "start_time": "2021-04-20T17:26:26.194051Z"
    }
   },
   "outputs": [],
   "source": [
    "import findspark\n",
    "findspark.init()"
   ]
  },
  {
   "cell_type": "code",
   "execution_count": 2,
   "id": "incomplete-beach",
   "metadata": {
    "ExecuteTime": {
     "end_time": "2021-04-20T17:26:26.363600Z",
     "start_time": "2021-04-20T17:26:26.359612Z"
    }
   },
   "outputs": [],
   "source": [
    "import sys\n",
    "import os\n",
    "\n",
    "os.environ['HADOOP_HOME'] = \"C:/Users/Husnain/Desktop/spark/spark-3.1.1-bin-hadoop2.7/spark-3.1.1-bin-hadoop2.7/hadoop\"\n",
    "    \n",
    "sys.path.append(\"C:/Users/Husnain/Desktop/spark/spark-3.1.1-bin-hadoop2.7/spark-3.1.1-bin-hadoop2.7/hadoop/bin\")"
   ]
  },
  {
   "cell_type": "code",
   "execution_count": 3,
   "id": "recorded-mineral",
   "metadata": {
    "ExecuteTime": {
     "end_time": "2021-04-20T17:26:27.809709Z",
     "start_time": "2021-04-20T17:26:26.526201Z"
    }
   },
   "outputs": [],
   "source": [
    "import pyspark\n",
    "from pyspark.sql import SparkSession"
   ]
  },
  {
   "cell_type": "code",
   "execution_count": 4,
   "id": "coastal-raising",
   "metadata": {
    "ExecuteTime": {
     "end_time": "2021-04-20T17:26:45.641744Z",
     "start_time": "2021-04-20T17:26:27.817689Z"
    }
   },
   "outputs": [
    {
     "name": "stdout",
     "output_type": "stream",
     "text": [
      "<pyspark.sql.session.SparkSession object at 0x00000105F9C94D48>\n"
     ]
    }
   ],
   "source": [
    "# Import SparkSession from pyspark.sql\n",
    "from pyspark.sql import SparkSession\n",
    "from pyspark import SparkContext as sc\n",
    "\n",
    "# Create my_spark\n",
    "spark = SparkSession.builder.getOrCreate()\n",
    "\n",
    "# Print my_spark\n",
    "print(spark)\n"
   ]
  },
  {
   "cell_type": "raw",
   "id": "magnetic-experience",
   "metadata": {},
   "source": [
    "Defining a schema\n",
    "Creating a defined schema helps with data quality and import performance. As mentioned during the lesson, we'll create a simple schema to read in the following columns:\n",
    "\n",
    "Name\n",
    "Age\n",
    "City\n",
    "The Name and City columns are StringType() and the Age column is an IntegerType()."
   ]
  },
  {
   "cell_type": "code",
   "execution_count": 5,
   "id": "requested-performer",
   "metadata": {
    "ExecuteTime": {
     "end_time": "2021-04-20T17:26:45.648688Z",
     "start_time": "2021-04-20T17:26:45.643699Z"
    }
   },
   "outputs": [],
   "source": [
    "# Import the pyspark.sql.types library\n",
    "from pyspark.sql.types import *\n",
    "\n",
    "# Define a new schema using the StructType method\n",
    "people_schema = StructType([\n",
    "  # Define a StructField for each field\n",
    "  StructField('name', StringType(), False),\n",
    "  StructField('age', IntegerType(), False),\n",
    "  StructField(\"city\", StringType(),False)\n",
    "])"
   ]
  },
  {
   "cell_type": "raw",
   "id": "comic-violation",
   "metadata": {
    "ExecuteTime": {
     "end_time": "2021-04-18T11:20:21.925052Z",
     "start_time": "2021-04-18T11:20:21.908096Z"
    }
   },
   "source": [
    "Using lazy processing\n",
    "Lazy processing operations will usually return in about the same amount of time regardless of the actual quantity of data. Remember that this is due to Spark not performing any transformations until an action is requested.\n",
    "\n",
    "For this exercise, we'll be defining a Data Frame (aa_dfw_df) and add a couple transformations. Note the amount of time required for the transformations to complete when defined vs when the data is actually queried. These differences may be short, but they will be noticeable. When working with a full Spark cluster with larger quantities of data the difference will be more apparent"
   ]
  },
  {
   "cell_type": "code",
   "execution_count": 6,
   "id": "valid-fiction",
   "metadata": {
    "ExecuteTime": {
     "end_time": "2021-04-20T17:26:54.299667Z",
     "start_time": "2021-04-20T17:26:45.650682Z"
    },
    "scrolled": true
   },
   "outputs": [
    {
     "name": "stdout",
     "output_type": "stream",
     "text": [
      "DataFrame[Date (MM/DD/YYYY): string, Flight Number: string, Destination Airport: string, Actual elapsed time (Minutes): string]\n",
      "+-----------------+-------------+-----------------------------+-------+\n",
      "|Date (MM/DD/YYYY)|Flight Number|Actual elapsed time (Minutes)|airport|\n",
      "+-----------------+-------------+-----------------------------+-------+\n",
      "|       01/01/2017|         0005|                          537|    hnl|\n",
      "|       01/01/2017|         0007|                          498|    ogg|\n",
      "|       01/01/2017|         0037|                          241|    sfo|\n",
      "|       01/01/2017|         0043|                          134|    dtw|\n",
      "|       01/01/2017|         0051|                           88|    stl|\n",
      "|       01/01/2017|         0060|                          149|    mia|\n",
      "|       01/01/2017|         0071|                          203|    lax|\n",
      "|       01/01/2017|         0074|                           76|    mem|\n",
      "|       01/01/2017|         0081|                          123|    den|\n",
      "|       01/01/2017|         0089|                          161|    slc|\n",
      "|       01/01/2017|         0096|                           84|    stl|\n",
      "|       01/01/2017|         0103|                          216|    sjc|\n",
      "|       01/01/2017|         0119|                          514|    ogg|\n",
      "|       01/01/2017|         0123|                          529|    hnl|\n",
      "|       01/01/2017|         0126|                          171|    lga|\n",
      "|       01/01/2017|         0132|                          188|    ewr|\n",
      "|       01/01/2017|         0140|                          231|    sjc|\n",
      "|       01/01/2017|         0174|                          145|    rdu|\n",
      "|       01/01/2017|         0176|                          184|    bos|\n",
      "|       01/01/2017|         0190|                           76|    sat|\n",
      "+-----------------+-------------+-----------------------------+-------+\n",
      "only showing top 20 rows\n",
      "\n"
     ]
    }
   ],
   "source": [
    "# Load the CSV file\n",
    "from pyspark.sql.functions import lower\n",
    "aa_dfw_df = spark.read.format('csv').options(Header=True).load('cleaning_data/AA_DFW_2017_Departures_Short.csv.gz')\n",
    "print(aa_dfw_df)\n",
    "# Add the airport column using the F.lower() method\n",
    "aa_dfw_df = aa_dfw_df.withColumn('airport', lower(aa_dfw_df['Destination Airport']))\n",
    "\n",
    "# Drop the Destination Airport column\n",
    "aa_dfw_df = aa_dfw_df.drop(aa_dfw_df['Destination Airport'])\n",
    "\n",
    "# Show the DataFrame\n",
    "aa_dfw_df.show()"
   ]
  },
  {
   "cell_type": "raw",
   "id": "strong-merchandise",
   "metadata": {},
   "source": [
    "When working with Spark, you'll often start with CSV, JSON, or other data sources. This provides a lot of flexibility for the types of data to load, but it is not an optimal format for Spark. The Parquet format is a columnar data store, allowing Spark to use predicate pushdown. This means Spark will only process the data necessary to complete the operations you define versus reading the entire dataset. This gives Spark more flexibility in accessing the data and often drastically improves performance on large datasets.\n",
    "\n",
    "In this exercise, we're going to practice creating a new Parquet file and then process some data from it."
   ]
  },
  {
   "cell_type": "code",
   "execution_count": 7,
   "id": "broke-driving",
   "metadata": {
    "ExecuteTime": {
     "end_time": "2021-04-20T17:26:54.915776Z",
     "start_time": "2021-04-20T17:26:54.300663Z"
    }
   },
   "outputs": [],
   "source": [
    "df1 = spark.read.csv(\"cleaning_data/AA_DFW_2015_Departures_Short/AA_DFW_2015_Departures_Short.csv\")\n",
    "df2 = spark.read.csv(\"cleaning_data/AA_DFW_2014_Departures_Short/AA_DFW_2014_Departures_Short.csv\")"
   ]
  },
  {
   "cell_type": "code",
   "execution_count": 9,
   "id": "unable-device",
   "metadata": {
    "ExecuteTime": {
     "end_time": "2021-04-20T17:27:07.826451Z",
     "start_time": "2021-04-20T17:27:07.822497Z"
    }
   },
   "outputs": [],
   "source": [
    "# View the row count of df1 and df2\n",
    "print(\"df1 Count: %d\" % df1.count())\n",
    "print(\"df2 Count: %d\" % df2.count())\n",
    "\n",
    "# Combine the DataFrames into one\n",
    "df3 = df1.union(df2)\n",
    "\n",
    "# Save the df3 DataFrame in Parquet format\n",
    "df3.write.parquet('AA_DFW_ALL.parquet', mode='overwrite')\n",
    "\n",
    "# Read the Parquet file into a new DataFrame and run a count\n",
    "print(spark.read.parquet('AA_DFW_ALL.parquet').count())"
   ]
  },
  {
   "cell_type": "code",
   "execution_count": null,
   "id": "industrial-converter",
   "metadata": {
    "ExecuteTime": {
     "end_time": "2021-04-18T12:07:45.241008Z",
     "start_time": "2021-04-18T12:07:45.029022Z"
    }
   },
   "outputs": [],
   "source": []
  },
  {
   "cell_type": "code",
   "execution_count": 11,
   "id": "classified-league",
   "metadata": {
    "ExecuteTime": {
     "end_time": "2021-04-20T17:27:21.189127Z",
     "start_time": "2021-04-20T17:27:21.185136Z"
    }
   },
   "outputs": [],
   "source": [
    "# Read the Parquet file into flights_df\n",
    "flights_df = spark.read.parquet(\"AA_DFW_ALL.parquet\")\n",
    "\n",
    "# Register the temp table\n",
    "flights_df.createOrReplaceTempView('flights')\n",
    "\n",
    "# Run a SQL query of the average flight duration\n",
    "avg_duration = spark.sql('SELECT avg(flight_duration) from flights').collect()[0]\n",
    "print('The average flight time is: %d' % avg_duration)"
   ]
  },
  {
   "cell_type": "code",
   "execution_count": 12,
   "id": "theoretical-craft",
   "metadata": {
    "ExecuteTime": {
     "end_time": "2021-04-20T17:27:24.298713Z",
     "start_time": "2021-04-20T17:27:24.275775Z"
    }
   },
   "outputs": [],
   "source": [
    "from pyspark.sql.types import StructType, StructField, IntegerType,StringType\n",
    "\n",
    "schema = StructType([\n",
    "    StructField(\"DATE\", StringType(), True),\n",
    "    StructField(\"TITLE\", StringType(), True),\n",
    "    StructField(\"VOTER_NAME\", StringType(), True)])\n",
    "\n",
    "voter_df = spark.read.csv(\"cleaning_data/DallasCouncilVoters/DallasCouncilVoters.csv\",header=False,schema=schema)"
   ]
  },
  {
   "cell_type": "code",
   "execution_count": 13,
   "id": "smooth-infection",
   "metadata": {
    "ExecuteTime": {
     "end_time": "2021-04-20T17:27:24.648466Z",
     "start_time": "2021-04-20T17:27:24.504187Z"
    }
   },
   "outputs": [
    {
     "name": "stdout",
     "output_type": "stream",
     "text": [
      "+----------+-------------+-------------------+\n",
      "|      DATE|        TITLE|         VOTER_NAME|\n",
      "+----------+-------------+-------------------+\n",
      "|      DATE|        TITLE|         VOTER_NAME|\n",
      "|02/08/2017|Councilmember|  Jennifer S. Gates|\n",
      "|02/08/2017|Councilmember| Philip T. Kingston|\n",
      "|02/08/2017|        Mayor|Michael S. Rawlings|\n",
      "|02/08/2017|Councilmember|       Adam Medrano|\n",
      "|02/08/2017|Councilmember|       Casey Thomas|\n",
      "|02/08/2017|Councilmember|Carolyn King Arnold|\n",
      "|02/08/2017|Councilmember|       Scott Griggs|\n",
      "|02/08/2017|Councilmember|   B. Adam  McGough|\n",
      "|02/08/2017|Councilmember|       Lee Kleinman|\n",
      "|02/08/2017|Councilmember|      Sandy Greyson|\n",
      "|02/08/2017|Councilmember|  Jennifer S. Gates|\n",
      "|02/08/2017|Councilmember| Philip T. Kingston|\n",
      "|02/08/2017|        Mayor|Michael S. Rawlings|\n",
      "|02/08/2017|Councilmember|       Adam Medrano|\n",
      "|02/08/2017|Councilmember|       Casey Thomas|\n",
      "|02/08/2017|Councilmember|Carolyn King Arnold|\n",
      "|02/08/2017|Councilmember| Rickey D. Callahan|\n",
      "|01/11/2017|Councilmember|  Jennifer S. Gates|\n",
      "|04/25/2018|Councilmember|     Sandy  Greyson|\n",
      "+----------+-------------+-------------------+\n",
      "only showing top 20 rows\n",
      "\n"
     ]
    }
   ],
   "source": [
    "voter_df.show()"
   ]
  },
  {
   "cell_type": "code",
   "execution_count": 14,
   "id": "ultimate-parliament",
   "metadata": {
    "ExecuteTime": {
     "end_time": "2021-04-20T17:27:27.219626Z",
     "start_time": "2021-04-20T17:27:24.736475Z"
    }
   },
   "outputs": [
    {
     "name": "stdout",
     "output_type": "stream",
     "text": [
      "+---------------------------------------------------------------------------------------------------------------------------------------------------------------------------------------------------------------------------------------------------------------------------------------------------------------------------------------------------------------------------------------------------------------------------+\n",
      "|VOTER_NAME                                                                                                                                                                                                                                                                                                                                                                                                                 |\n",
      "+---------------------------------------------------------------------------------------------------------------------------------------------------------------------------------------------------------------------------------------------------------------------------------------------------------------------------------------------------------------------------------------------------------------------------+\n",
      "|Tennell Atkins                                                                                                                                                                                                                                                                                                                                                                                                             |\n",
      "|  the  final   2018 Assessment Plan and the 2018 Assessment  Roll  (to  be  kept  on  file  with  the  City  Secretary);  establishing  classifications  for   the   apportionment   of   costs and the methods of assessing special assessments for the services and improvements to property in the District;  closing  the  hearing  and  levying  a  special  assessment  on  property  in  the  District              |\n",
      "|Scott Griggs                                                                                                                                                                                                                                                                                                                                                                                                               |\n",
      "|Scott  Griggs                                                                                                                                                                                                                                                                                                                                                                                                              |\n",
      "|Sandy Greyson                                                                                                                                                                                                                                                                                                                                                                                                              |\n",
      "|Michael S. Rawlings                                                                                                                                                                                                                                                                                                                                                                                                        |\n",
      "| the final 2018 Assessment Plan and the 2018 Assessment  Roll  (to  be  kept  on  file  with  the  City  Secretary);  establishing  classifications  for  the   apportionment   of   costs and  the  methods  of  assessing  special  assessments  on  Dallas  hotels  with    100 or more rooms                                                                                                                           |\n",
      "|Kevin Felder                                                                                                                                                                                                                                                                                                                                                                                                               |\n",
      "|Adam Medrano                                                                                                                                                                                                                                                                                                                                                                                                               |\n",
      "|Casey  Thomas                                                                                                                                                                                                                                                                                                                                                                                                              |\n",
      "|null                                                                                                                                                                                                                                                                                                                                                                                                                       |\n",
      "|   the   final  2018 Assessment  Plan  and  the  2018 Assessment  Roll  (to  be  kept  on  file   with the City Secretary); establishing classifications  for  the  apportionment  of  costs  and  the  methods  of  assessing  special  assessments  for  the  services  and  improvements  to  property  in  the  District;  closing  the  hearing  and  levying  a special  assessment  on  property  in  the  District |\n",
      "|VOTER_NAME                                                                                                                                                                                                                                                                                                                                                                                                                 |\n",
      "|011018__42                                                                                                                                                                                                                                                                                                                                                                                                                 |\n",
      "|Mark  Clayton                                                                                                                                                                                                                                                                                                                                                                                                              |\n",
      "|Casey Thomas                                                                                                                                                                                                                                                                                                                                                                                                               |\n",
      "|Sandy  Greyson                                                                                                                                                                                                                                                                                                                                                                                                             |\n",
      "|Mark Clayton                                                                                                                                                                                                                                                                                                                                                                                                               |\n",
      "|Jennifer S.  Gates                                                                                                                                                                                                                                                                                                                                                                                                         |\n",
      "|Tiffinni A. Young                                                                                                                                                                                                                                                                                                                                                                                                          |\n",
      "|  the  final  2018 Assessment  Plan   and   the   2018 Assessment   Roll  (to  be  kept  on  file  with  the  City  Secretary);  establishing   classifications  for the apportionment of costs and the  methods  of  assessing  special  assessments for the services and improvements  to  property  in  the  District;  closing the hearing and  levying  a  special  assessment  on  property  in  the  District       |\n",
      "|B. Adam  McGough                                                                                                                                                                                                                                                                                                                                                                                                           |\n",
      "|Omar Narvaez                                                                                                                                                                                                                                                                                                                                                                                                               |\n",
      "|Philip T. Kingston                                                                                                                                                                                                                                                                                                                                                                                                         |\n",
      "|Rickey D. Callahan                                                                                                                                                                                                                                                                                                                                                                                                         |\n",
      "|Dwaine R. Caraway                                                                                                                                                                                                                                                                                                                                                                                                          |\n",
      "|Philip T.  Kingston                                                                                                                                                                                                                                                                                                                                                                                                        |\n",
      "|Jennifer S. Gates                                                                                                                                                                                                                                                                                                                                                                                                          |\n",
      "|Lee M. Kleinman                                                                                                                                                                                                                                                                                                                                                                                                            |\n",
      "|Monica R. Alonzo                                                                                                                                                                                                                                                                                                                                                                                                           |\n",
      "|   the   final  2018 Assessment  Plan  and  the  2018 Assessment  Roll   (to  be  kept  on  file   with the City Secretary); establishing classifications  for  the  apportionment  of  costs  and  the  methods  of  assessing  special  assessments  for  the  services  and  improvements  to  property  in  the  District;  closing  the  hearing  and  levying  a special  assessment  on  property  in  the  District|\n",
      "|Rickey D.  Callahan                                                                                                                                                                                                                                                                                                                                                                                                        |\n",
      "|Carolyn King Arnold                                                                                                                                                                                                                                                                                                                                                                                                        |\n",
      "|  the  final   2018 Assessment Plan and the 2018 Assessment  Roll  (to  be  kept  on  file  with  the  City  Secretary);  establishing  classifications  for  the   apportionment   of   costs and the methods of assessing special assessments for the services and improvements to property in the District;  closing  the  hearing  and  levying  a  special  assessment  on  property  in  the  District               |\n",
      "|Erik Wilson                                                                                                                                                                                                                                                                                                                                                                                                                |\n",
      "|  the  final  2018 Assessment Plan and the 2018 Assessment  Roll  (to  be  kept  on  file  with  the  City  Secretary);  establishing  classifications  for  the   apportionment   of   costs and the methods of assessing special assessments for the services and improvements to property in the District; closing  the  hearing  and  levying  a  special  assessment  on  property  in  the  District                 |\n",
      "|Lee Kleinman                                                                                                                                                                                                                                                                                                                                                                                                               |\n",
      "+---------------------------------------------------------------------------------------------------------------------------------------------------------------------------------------------------------------------------------------------------------------------------------------------------------------------------------------------------------------------------------------------------------------------------+\n",
      "\n"
     ]
    },
    {
     "name": "stdout",
     "output_type": "stream",
     "text": [
      "+-------------------+\n",
      "|VOTER_NAME         |\n",
      "+-------------------+\n",
      "|Tennell Atkins     |\n",
      "|Scott Griggs       |\n",
      "|Scott  Griggs      |\n",
      "|Sandy Greyson      |\n",
      "|Michael S. Rawlings|\n",
      "|Kevin Felder       |\n",
      "|Adam Medrano       |\n",
      "|Casey  Thomas      |\n",
      "|Mark  Clayton      |\n",
      "|Casey Thomas       |\n",
      "|Sandy  Greyson     |\n",
      "|Mark Clayton       |\n",
      "|Jennifer S.  Gates |\n",
      "|Tiffinni A. Young  |\n",
      "|B. Adam  McGough   |\n",
      "|Omar Narvaez       |\n",
      "|Philip T. Kingston |\n",
      "|Rickey D. Callahan |\n",
      "|Dwaine R. Caraway  |\n",
      "|Philip T.  Kingston|\n",
      "|Jennifer S. Gates  |\n",
      "|Lee M. Kleinman    |\n",
      "|Monica R. Alonzo   |\n",
      "|Rickey D.  Callahan|\n",
      "|Carolyn King Arnold|\n",
      "|Erik Wilson        |\n",
      "|Lee Kleinman       |\n",
      "+-------------------+\n",
      "\n"
     ]
    }
   ],
   "source": [
    "# Show the distinct VOTER_NAME entries\n",
    "import pyspark.sql.functions as F\n",
    "voter_df.select(\"VOTER_NAME\").distinct().show(40, truncate=False)\n",
    "\n",
    "# Filter voter_df where the VOTER_NAME is 1-20 characters in length\n",
    "voter_df = voter_df.filter('length(VOTER_NAME) > 0 and length(VOTER_NAME) < 20')\n",
    "\n",
    "# Filter out voter_df where the VOTER_NAME contains an underscore\n",
    "voter_df = voter_df.filter(~ F.col('VOTER_NAME').contains(\"_\"))\n",
    "\n",
    "# Show the distinct VOTER_NAME entries again\n",
    "voter_df.select(\"VOTER_NAME\").distinct().show(40, truncate=False)"
   ]
  },
  {
   "cell_type": "code",
   "execution_count": 15,
   "id": "verbal-crisis",
   "metadata": {
    "ExecuteTime": {
     "end_time": "2021-04-20T17:27:27.471952Z",
     "start_time": "2021-04-20T17:27:27.222618Z"
    }
   },
   "outputs": [
    {
     "name": "stdout",
     "output_type": "stream",
     "text": [
      "+----------+-------------+-------------------+----------+---------+\n",
      "|      DATE|        TITLE|         VOTER_NAME|first_name|last_name|\n",
      "+----------+-------------+-------------------+----------+---------+\n",
      "|02/08/2017|Councilmember|  Jennifer S. Gates|  Jennifer|    Gates|\n",
      "|02/08/2017|Councilmember| Philip T. Kingston|    Philip| Kingston|\n",
      "|02/08/2017|        Mayor|Michael S. Rawlings|   Michael| Rawlings|\n",
      "|02/08/2017|Councilmember|       Adam Medrano|      Adam|  Medrano|\n",
      "|02/08/2017|Councilmember|       Casey Thomas|     Casey|   Thomas|\n",
      "|02/08/2017|Councilmember|Carolyn King Arnold|   Carolyn|   Arnold|\n",
      "|02/08/2017|Councilmember|       Scott Griggs|     Scott|   Griggs|\n",
      "|02/08/2017|Councilmember|   B. Adam  McGough|        B.|  McGough|\n",
      "|02/08/2017|Councilmember|       Lee Kleinman|       Lee| Kleinman|\n",
      "|02/08/2017|Councilmember|      Sandy Greyson|     Sandy|  Greyson|\n",
      "|02/08/2017|Councilmember|  Jennifer S. Gates|  Jennifer|    Gates|\n",
      "|02/08/2017|Councilmember| Philip T. Kingston|    Philip| Kingston|\n",
      "|02/08/2017|        Mayor|Michael S. Rawlings|   Michael| Rawlings|\n",
      "|02/08/2017|Councilmember|       Adam Medrano|      Adam|  Medrano|\n",
      "|02/08/2017|Councilmember|       Casey Thomas|     Casey|   Thomas|\n",
      "|02/08/2017|Councilmember|Carolyn King Arnold|   Carolyn|   Arnold|\n",
      "|02/08/2017|Councilmember| Rickey D. Callahan|    Rickey| Callahan|\n",
      "|01/11/2017|Councilmember|  Jennifer S. Gates|  Jennifer|    Gates|\n",
      "|04/25/2018|Councilmember|     Sandy  Greyson|     Sandy|  Greyson|\n",
      "|04/25/2018|Councilmember| Jennifer S.  Gates|  Jennifer|    Gates|\n",
      "+----------+-------------+-------------------+----------+---------+\n",
      "only showing top 20 rows\n",
      "\n"
     ]
    }
   ],
   "source": [
    "# Add a new column called splits separated on whitespace\n",
    "voter_df = voter_df.withColumn(\"splits\", F.split(voter_df.VOTER_NAME, '\\s+'))\n",
    "\n",
    "# Create a new column called first_name based on the first item in splits\n",
    "voter_df = voter_df.withColumn(\"first_name\", voter_df.splits.getItem(0))\n",
    "\n",
    "# Get the last entry of the splits list and create a column called last_name\n",
    "voter_df = voter_df.withColumn(\"last_name\", voter_df.splits.getItem(F.size('splits')-1))\n",
    "\n",
    "# Drop the splits column\n",
    "voter_df = voter_df.drop('splits')\n",
    "\n",
    "# Show the voter_df DataFrame\n",
    "voter_df.show()"
   ]
  },
  {
   "cell_type": "code",
   "execution_count": null,
   "id": "expired-dispatch",
   "metadata": {},
   "outputs": [],
   "source": []
  },
  {
   "cell_type": "code",
   "execution_count": 16,
   "id": "median-favorite",
   "metadata": {
    "ExecuteTime": {
     "end_time": "2021-04-20T17:27:27.699107Z",
     "start_time": "2021-04-20T17:27:27.474945Z"
    }
   },
   "outputs": [
    {
     "name": "stdout",
     "output_type": "stream",
     "text": [
      "+----------+-------------+-------------------+----------+---------+--------------------+\n",
      "|      DATE|        TITLE|         VOTER_NAME|first_name|last_name|          random_val|\n",
      "+----------+-------------+-------------------+----------+---------+--------------------+\n",
      "|02/08/2017|Councilmember|  Jennifer S. Gates|  Jennifer|    Gates|  0.4672698525957564|\n",
      "|02/08/2017|Councilmember| Philip T. Kingston|    Philip| Kingston|   0.295785888425138|\n",
      "|02/08/2017|        Mayor|Michael S. Rawlings|   Michael| Rawlings|                null|\n",
      "|02/08/2017|Councilmember|       Adam Medrano|      Adam|  Medrano|  0.7829960775513511|\n",
      "|02/08/2017|Councilmember|       Casey Thomas|     Casey|   Thomas|  0.4323406964593939|\n",
      "|02/08/2017|Councilmember|Carolyn King Arnold|   Carolyn|   Arnold|  0.7157676135177211|\n",
      "|02/08/2017|Councilmember|       Scott Griggs|     Scott|   Griggs|  0.3721183545139999|\n",
      "|02/08/2017|Councilmember|   B. Adam  McGough|        B.|  McGough| 0.16041104040150478|\n",
      "|02/08/2017|Councilmember|       Lee Kleinman|       Lee| Kleinman|  0.6725969487297421|\n",
      "|02/08/2017|Councilmember|      Sandy Greyson|     Sandy|  Greyson|  0.4365547827571621|\n",
      "|02/08/2017|Councilmember|  Jennifer S. Gates|  Jennifer|    Gates|  0.3151573396959336|\n",
      "|02/08/2017|Councilmember| Philip T. Kingston|    Philip| Kingston|  0.8482448833144478|\n",
      "|02/08/2017|        Mayor|Michael S. Rawlings|   Michael| Rawlings|                null|\n",
      "|02/08/2017|Councilmember|       Adam Medrano|      Adam|  Medrano|  0.8364344954599807|\n",
      "|02/08/2017|Councilmember|       Casey Thomas|     Casey|   Thomas|  0.5115128349284788|\n",
      "|02/08/2017|Councilmember|Carolyn King Arnold|   Carolyn|   Arnold| 0.20939421503954592|\n",
      "|02/08/2017|Councilmember| Rickey D. Callahan|    Rickey| Callahan|  0.8941207496505881|\n",
      "|01/11/2017|Councilmember|  Jennifer S. Gates|  Jennifer|    Gates|0.001333712113621...|\n",
      "|04/25/2018|Councilmember|     Sandy  Greyson|     Sandy|  Greyson|  0.2309027566579992|\n",
      "|04/25/2018|Councilmember| Jennifer S.  Gates|  Jennifer|    Gates|  0.9340877182949731|\n",
      "+----------+-------------+-------------------+----------+---------+--------------------+\n",
      "only showing top 20 rows\n",
      "\n"
     ]
    }
   ],
   "source": [
    "# Add a column to voter_df for any voter with the title **Councilmember**\n",
    "voter_df = voter_df.withColumn('random_val',\n",
    "                               F.when(voter_df.TITLE == 'Councilmember', F.rand()))\n",
    "\n",
    "# Show some of the DataFrame rows, noting whether the when clause worked\n",
    "voter_df.show()"
   ]
  },
  {
   "cell_type": "code",
   "execution_count": null,
   "id": "wrapped-blood",
   "metadata": {},
   "outputs": [],
   "source": []
  },
  {
   "cell_type": "code",
   "execution_count": 17,
   "id": "sustained-debut",
   "metadata": {
    "ExecuteTime": {
     "end_time": "2021-04-20T17:27:28.028228Z",
     "start_time": "2021-04-20T17:27:27.701102Z"
    }
   },
   "outputs": [
    {
     "name": "stdout",
     "output_type": "stream",
     "text": [
      "+----------+-------------+-------------------+----------+---------+-------------------+\n",
      "|      DATE|        TITLE|         VOTER_NAME|first_name|last_name|         random_val|\n",
      "+----------+-------------+-------------------+----------+---------+-------------------+\n",
      "|02/08/2017|Councilmember|  Jennifer S. Gates|  Jennifer|    Gates| 0.9731100292486756|\n",
      "|02/08/2017|Councilmember| Philip T. Kingston|    Philip| Kingston|0.47025124772417337|\n",
      "|02/08/2017|        Mayor|Michael S. Rawlings|   Michael| Rawlings|                2.0|\n",
      "|02/08/2017|Councilmember|       Adam Medrano|      Adam|  Medrano|0.35539671731996436|\n",
      "|02/08/2017|Councilmember|       Casey Thomas|     Casey|   Thomas| 0.8596267122194526|\n",
      "|02/08/2017|Councilmember|Carolyn King Arnold|   Carolyn|   Arnold| 0.6279301050088159|\n",
      "|02/08/2017|Councilmember|       Scott Griggs|     Scott|   Griggs|0.29305007704673325|\n",
      "|02/08/2017|Councilmember|   B. Adam  McGough|        B.|  McGough| 0.9129196719554853|\n",
      "|02/08/2017|Councilmember|       Lee Kleinman|       Lee| Kleinman| 0.3472079714084395|\n",
      "|02/08/2017|Councilmember|      Sandy Greyson|     Sandy|  Greyson| 0.6911296275515048|\n",
      "|02/08/2017|Councilmember|  Jennifer S. Gates|  Jennifer|    Gates| 0.6847681270864022|\n",
      "|02/08/2017|Councilmember| Philip T. Kingston|    Philip| Kingston|0.11005446928454199|\n",
      "|02/08/2017|        Mayor|Michael S. Rawlings|   Michael| Rawlings|                2.0|\n",
      "|02/08/2017|Councilmember|       Adam Medrano|      Adam|  Medrano| 0.6323971206578537|\n",
      "|02/08/2017|Councilmember|       Casey Thomas|     Casey|   Thomas| 0.6624707631700026|\n",
      "|02/08/2017|Councilmember|Carolyn King Arnold|   Carolyn|   Arnold| 0.6827239222636193|\n",
      "|02/08/2017|Councilmember| Rickey D. Callahan|    Rickey| Callahan| 0.4498633253942518|\n",
      "|01/11/2017|Councilmember|  Jennifer S. Gates|  Jennifer|    Gates| 0.7830446055983056|\n",
      "|04/25/2018|Councilmember|     Sandy  Greyson|     Sandy|  Greyson| 0.3473933613427679|\n",
      "|04/25/2018|Councilmember| Jennifer S.  Gates|  Jennifer|    Gates| 0.8411662831953033|\n",
      "+----------+-------------+-------------------+----------+---------+-------------------+\n",
      "only showing top 20 rows\n",
      "\n",
      "+----------+--------------------+-----------------+----------+---------+----------+\n",
      "|      DATE|               TITLE|       VOTER_NAME|first_name|last_name|random_val|\n",
      "+----------+--------------------+-----------------+----------+---------+----------+\n",
      "|04/25/2018|Deputy Mayor Pro Tem|     Adam Medrano|      Adam|  Medrano|       0.0|\n",
      "|04/25/2018|       Mayor Pro Tem|Dwaine R. Caraway|    Dwaine|  Caraway|       0.0|\n",
      "|06/20/2018|Deputy Mayor Pro Tem|     Adam Medrano|      Adam|  Medrano|       0.0|\n",
      "|06/20/2018|       Mayor Pro Tem|Dwaine R. Caraway|    Dwaine|  Caraway|       0.0|\n",
      "|06/20/2018|Deputy Mayor Pro Tem|     Adam Medrano|      Adam|  Medrano|       0.0|\n",
      "|06/20/2018|       Mayor Pro Tem|Dwaine R. Caraway|    Dwaine|  Caraway|       0.0|\n",
      "|08/15/2018|Deputy Mayor Pro Tem|     Adam Medrano|      Adam|  Medrano|       0.0|\n",
      "|08/15/2018|Deputy Mayor Pro Tem|     Adam Medrano|      Adam|  Medrano|       0.0|\n",
      "|09/18/2018|Deputy Mayor Pro Tem|     Adam Medrano|      Adam|  Medrano|       0.0|\n",
      "|09/18/2018|       Mayor Pro Tem|    Casey  Thomas|     Casey|   Thomas|       0.0|\n",
      "|04/25/2018|Deputy Mayor Pro Tem|     Adam Medrano|      Adam|  Medrano|       0.0|\n",
      "|04/25/2018|       Mayor Pro Tem|Dwaine R. Caraway|    Dwaine|  Caraway|       0.0|\n",
      "|04/11/2018|       Mayor Pro Tem|Dwaine R. Caraway|    Dwaine|  Caraway|       0.0|\n",
      "|04/11/2018|Deputy Mayor Pro Tem|     Adam Medrano|      Adam|  Medrano|       0.0|\n",
      "|04/11/2018|       Mayor Pro Tem|Dwaine R. Caraway|    Dwaine|  Caraway|       0.0|\n",
      "|04/11/2018|Deputy Mayor Pro Tem|     Adam Medrano|      Adam|  Medrano|       0.0|\n",
      "|04/11/2018|       Mayor Pro Tem|Dwaine R. Caraway|    Dwaine|  Caraway|       0.0|\n",
      "|06/13/2018|Deputy Mayor Pro Tem|     Adam Medrano|      Adam|  Medrano|       0.0|\n",
      "|06/13/2018|       Mayor Pro Tem|Dwaine R. Caraway|    Dwaine|  Caraway|       0.0|\n",
      "|04/11/2018|Deputy Mayor Pro Tem|     Adam Medrano|      Adam|  Medrano|       0.0|\n",
      "+----------+--------------------+-----------------+----------+---------+----------+\n",
      "only showing top 20 rows\n",
      "\n"
     ]
    }
   ],
   "source": [
    "# Add a column to voter_df for a voter based on their position\n",
    "voter_df = voter_df.withColumn('random_val',\n",
    "                               F.when(voter_df.TITLE == 'Councilmember', F.rand())\n",
    "                               .when(voter_df.TITLE == \"Mayor\", 2)\n",
    "                               .otherwise(0))\n",
    "\n",
    "# Show some of the DataFrame rows\n",
    "voter_df.show()\n",
    "\n",
    "# Use the .filter() clause with random_val\n",
    "voter_df.filter(voter_df.random_val==0).show()"
   ]
  },
  {
   "cell_type": "raw",
   "id": "incorporated-student",
   "metadata": {},
   "source": [
    "User defined functions in Spark"
   ]
  },
  {
   "cell_type": "code",
   "execution_count": 18,
   "id": "reverse-adams",
   "metadata": {
    "ExecuteTime": {
     "end_time": "2021-04-20T17:27:28.513111Z",
     "start_time": "2021-04-20T17:27:28.498112Z"
    }
   },
   "outputs": [],
   "source": [
    "voter_df = voter_df.withColumn(\"splits\", F.split(voter_df.VOTER_NAME,'\\s+'))"
   ]
  },
  {
   "cell_type": "code",
   "execution_count": 19,
   "id": "hired-hands",
   "metadata": {
    "ExecuteTime": {
     "end_time": "2021-04-20T17:27:29.925070Z",
     "start_time": "2021-04-20T17:27:28.944782Z"
    }
   },
   "outputs": [
    {
     "name": "stdout",
     "output_type": "stream",
     "text": [
      "+----------+-------------+-------------------+----------+---------+-------------------+--------------------+---------------------+\n",
      "|      DATE|        TITLE|         VOTER_NAME|first_name|last_name|         random_val|              splits|first_and_middle_name|\n",
      "+----------+-------------+-------------------+----------+---------+-------------------+--------------------+---------------------+\n",
      "|02/08/2017|Councilmember|  Jennifer S. Gates|  Jennifer|    Gates| 0.9731100292486756|[Jennifer, S., Ga...|    Jennifer S. Gates|\n",
      "|02/08/2017|Councilmember| Philip T. Kingston|    Philip| Kingston|0.47025124772417337|[Philip, T., King...|   Philip T. Kingston|\n",
      "|02/08/2017|        Mayor|Michael S. Rawlings|   Michael| Rawlings|                2.0|[Michael, S., Raw...|  Michael S. Rawlings|\n",
      "|02/08/2017|Councilmember|       Adam Medrano|      Adam|  Medrano|0.35539671731996436|     [Adam, Medrano]|         Adam Medrano|\n",
      "|02/08/2017|Councilmember|       Casey Thomas|     Casey|   Thomas| 0.8596267122194526|     [Casey, Thomas]|         Casey Thomas|\n",
      "|02/08/2017|Councilmember|Carolyn King Arnold|   Carolyn|   Arnold| 0.6279301050088159|[Carolyn, King, A...|  Carolyn King Arnold|\n",
      "|02/08/2017|Councilmember|       Scott Griggs|     Scott|   Griggs|0.29305007704673325|     [Scott, Griggs]|         Scott Griggs|\n",
      "|02/08/2017|Councilmember|   B. Adam  McGough|        B.|  McGough| 0.9129196719554853| [B., Adam, McGough]|      B. Adam McGough|\n",
      "|02/08/2017|Councilmember|       Lee Kleinman|       Lee| Kleinman| 0.3472079714084395|     [Lee, Kleinman]|         Lee Kleinman|\n",
      "|02/08/2017|Councilmember|      Sandy Greyson|     Sandy|  Greyson| 0.6911296275515048|    [Sandy, Greyson]|        Sandy Greyson|\n",
      "|02/08/2017|Councilmember|  Jennifer S. Gates|  Jennifer|    Gates| 0.6847681270864022|[Jennifer, S., Ga...|    Jennifer S. Gates|\n",
      "|02/08/2017|Councilmember| Philip T. Kingston|    Philip| Kingston|0.11005446928454199|[Philip, T., King...|   Philip T. Kingston|\n",
      "|02/08/2017|        Mayor|Michael S. Rawlings|   Michael| Rawlings|                2.0|[Michael, S., Raw...|  Michael S. Rawlings|\n",
      "|02/08/2017|Councilmember|       Adam Medrano|      Adam|  Medrano| 0.6323971206578537|     [Adam, Medrano]|         Adam Medrano|\n",
      "|02/08/2017|Councilmember|       Casey Thomas|     Casey|   Thomas| 0.6624707631700026|     [Casey, Thomas]|         Casey Thomas|\n",
      "|02/08/2017|Councilmember|Carolyn King Arnold|   Carolyn|   Arnold| 0.6827239222636193|[Carolyn, King, A...|  Carolyn King Arnold|\n",
      "|02/08/2017|Councilmember| Rickey D. Callahan|    Rickey| Callahan| 0.4498633253942518|[Rickey, D., Call...|   Rickey D. Callahan|\n",
      "|01/11/2017|Councilmember|  Jennifer S. Gates|  Jennifer|    Gates| 0.7830446055983056|[Jennifer, S., Ga...|    Jennifer S. Gates|\n",
      "|04/25/2018|Councilmember|     Sandy  Greyson|     Sandy|  Greyson| 0.3473933613427679|    [Sandy, Greyson]|        Sandy Greyson|\n",
      "|04/25/2018|Councilmember| Jennifer S.  Gates|  Jennifer|    Gates| 0.8411662831953033|[Jennifer, S., Ga...|    Jennifer S. Gates|\n",
      "+----------+-------------+-------------------+----------+---------+-------------------+--------------------+---------------------+\n",
      "only showing top 20 rows\n",
      "\n"
     ]
    }
   ],
   "source": [
    "def getFirstAndMiddle(names):\n",
    "  # Return a space separated string of names\n",
    "  return ' '.join(names)\n",
    "\n",
    "# Define the method as a UDF\n",
    "udfFirstAndMiddle = F.udf(getFirstAndMiddle, StringType())\n",
    "\n",
    "# Create a new column using your UDF\n",
    "voter_df = voter_df.withColumn('first_and_middle_name', udfFirstAndMiddle(voter_df.splits))\n",
    "\n",
    "# Show the DataFrame\n",
    "voter_df.show()"
   ]
  },
  {
   "cell_type": "code",
   "execution_count": null,
   "id": "durable-explorer",
   "metadata": {
    "ExecuteTime": {
     "end_time": "2021-04-19T18:02:15.330069Z",
     "start_time": "2021-04-19T18:02:14.927665Z"
    }
   },
   "outputs": [],
   "source": []
  },
  {
   "cell_type": "code",
   "execution_count": 20,
   "id": "ethical-clarity",
   "metadata": {
    "ExecuteTime": {
     "end_time": "2021-04-20T17:27:31.906116Z",
     "start_time": "2021-04-20T17:27:29.927066Z"
    }
   },
   "outputs": [
    {
     "name": "stdout",
     "output_type": "stream",
     "text": [
      "\n",
      "There are 27 rows in the voter_df DataFrame.\n",
      "\n",
      "+-------------------+-------------+\n",
      "|         VOTER_NAME|       ROW_ID|\n",
      "+-------------------+-------------+\n",
      "|       Lee Kleinman|1709396983808|\n",
      "|        Erik Wilson|1700807049216|\n",
      "|Carolyn King Arnold|1632087572480|\n",
      "|Rickey D.  Callahan|1597727834112|\n",
      "|   Monica R. Alonzo|1382979469312|\n",
      "|    Lee M. Kleinman|1228360646656|\n",
      "|  Jennifer S. Gates|1194000908288|\n",
      "|Philip T.  Kingston|1185410973696|\n",
      "|  Dwaine R. Caraway|1142461300736|\n",
      "| Rickey D. Callahan|1125281431553|\n",
      "+-------------------+-------------+\n",
      "only showing top 10 rows\n",
      "\n"
     ]
    }
   ],
   "source": [
    "# Select all the unique council voters\n",
    "voter_df = voter_df.select(voter_df[\"VOTER_NAME\"]).distinct()\n",
    "\n",
    "# Count the rows in voter_df\n",
    "print(\"\\nThere are %d rows in the voter_df DataFrame.\\n\" % voter_df.count())\n",
    "\n",
    "# Add a ROW_ID\n",
    "voter_df = voter_df.withColumn('ROW_ID', F.monotonically_increasing_id())\n",
    "\n",
    "# Show the rows with 10 highest IDs in the set\n",
    "voter_df.orderBy(voter_df.ROW_ID.desc()).show(10)"
   ]
  },
  {
   "cell_type": "code",
   "execution_count": null,
   "id": "communist-secretary",
   "metadata": {},
   "outputs": [],
   "source": []
  },
  {
   "cell_type": "code",
   "execution_count": 21,
   "id": "japanese-guitar",
   "metadata": {
    "ExecuteTime": {
     "end_time": "2021-04-20T17:27:32.565693Z",
     "start_time": "2021-04-20T17:27:31.909107Z"
    }
   },
   "outputs": [
    {
     "name": "stdout",
     "output_type": "stream",
     "text": [
      "\n",
      "There are 200 partitions in the voter_df DataFrame.\n",
      "\n",
      "+-------------------+-------------+\n",
      "|         VOTER_NAME|       ROW_ID|\n",
      "+-------------------+-------------+\n",
      "|       Lee Kleinman|1709396983808|\n",
      "|        Erik Wilson|1700807049216|\n",
      "|Carolyn King Arnold|1632087572480|\n",
      "|Rickey D.  Callahan|1597727834112|\n",
      "|   Monica R. Alonzo|1382979469312|\n",
      "|    Lee M. Kleinman|1228360646656|\n",
      "|  Jennifer S. Gates|1194000908288|\n",
      "|Philip T.  Kingston|1185410973696|\n",
      "|  Dwaine R. Caraway|1142461300736|\n",
      "| Rickey D. Callahan|1125281431553|\n",
      "+-------------------+-------------+\n",
      "only showing top 10 rows\n",
      "\n"
     ]
    }
   ],
   "source": [
    "# Print the number of partitions in each DataFrame\n",
    "print(\"\\nThere are %d partitions in the voter_df DataFrame.\\n\" % voter_df.rdd.getNumPartitions())\n",
    "\n",
    "# Add a ROW_ID field to each DataFrame\n",
    "voter_df = voter_df.withColumn('ROW_ID', F.monotonically_increasing_id())\n",
    "\n",
    "# Show the top 10 IDs in each DataFrame \n",
    "voter_df.orderBy(voter_df.ROW_ID.desc()).show(10)\n"
   ]
  },
  {
   "cell_type": "raw",
   "id": "referenced-deficit",
   "metadata": {},
   "source": [
    "Improving Performance\n"
   ]
  },
  {
   "cell_type": "code",
   "execution_count": 22,
   "id": "incorrect-tracy",
   "metadata": {
    "ExecuteTime": {
     "end_time": "2021-04-20T17:27:32.580653Z",
     "start_time": "2021-04-20T17:27:32.568685Z"
    }
   },
   "outputs": [
    {
     "name": "stdout",
     "output_type": "stream",
     "text": [
      "Name: pyspark-shell\n",
      "Driver TCP port: 56051\n",
      "Number of partitions: 200\n"
     ]
    }
   ],
   "source": [
    "# Name of the Spark application instance\n",
    "app_name = spark.conf.get('spark.app.name')\n",
    "\n",
    "# Driver TCP port\n",
    "driver_tcp_port = spark.conf.get('spark.driver.port')\n",
    "\n",
    "# Number of join partitions\n",
    "num_partitions = spark.conf.get('spark.sql.shuffle.partitions')\n",
    "\n",
    "# Show the results\n",
    "print(\"Name: %s\" % app_name)\n",
    "print(\"Driver TCP port: %s\" % driver_tcp_port)\n",
    "print(\"Number of partitions: %s\" % num_partitions)"
   ]
  },
  {
   "cell_type": "code",
   "execution_count": 23,
   "id": "subjective-dividend",
   "metadata": {
    "ExecuteTime": {
     "end_time": "2021-04-20T17:27:33.292805Z",
     "start_time": "2021-04-20T17:27:33.036203Z"
    }
   },
   "outputs": [
    {
     "name": "stdout",
     "output_type": "stream",
     "text": [
      "Partition count before change: 1\n",
      "Partition count after change: 500\n"
     ]
    }
   ],
   "source": [
    "# Store the number of partitions in variable\n",
    "departures_df = spark.read.csv('cleaning_data/DallasCouncilVoters/DallasCouncilVoters.csv')\n",
    "before = departures_df.rdd.getNumPartitions()\n",
    "# Configure Spark to use 500 partitions\n",
    "spark.conf.set('spark.sql.shuffle.partitions', 500)\n",
    "\n",
    "# Recreate the DataFrame using the departures data file\n",
    "departures_df = spark.read.csv('cleaning_data/DallasCouncilVoters/DallasCouncilVoters.csv').distinct()\n",
    "\n",
    "# Print the number of partitions for each instance\n",
    "print(\"Partition count before change: %d\" % before)\n",
    "print(\"Partition count after change: %d\" % departures_df.rdd.getNumPartitions())"
   ]
  },
  {
   "cell_type": "code",
   "execution_count": null,
   "id": "mysterious-lithuania",
   "metadata": {
    "ExecuteTime": {
     "end_time": "2021-04-20T17:27:33.424454Z",
     "start_time": "2021-04-20T17:27:33.415479Z"
    }
   },
   "outputs": [],
   "source": []
  },
  {
   "cell_type": "code",
   "execution_count": 25,
   "id": "assured-compensation",
   "metadata": {
    "ExecuteTime": {
     "end_time": "2021-04-20T17:27:41.155644Z",
     "start_time": "2021-04-20T17:27:40.885757Z"
    }
   },
   "outputs": [
    {
     "name": "stdout",
     "output_type": "stream",
     "text": [
      "== Physical Plan ==\n",
      "BroadcastNestedLoopJoin BuildRight, Inner\n",
      ":- *(2) HashAggregate(keys=[_c0#449, _c1#450, _c2#451], functions=[])\n",
      ":  +- Exchange hashpartitioning(_c0#449, _c1#450, _c2#451, 500), ENSURE_REQUIREMENTS, [id=#520]\n",
      ":     +- *(1) HashAggregate(keys=[_c0#449, _c1#450, _c2#451], functions=[])\n",
      ":        +- FileScan csv [_c0#449,_c1#450,_c2#451] Batched: false, DataFilters: [], Format: CSV, Location: InMemoryFileIndex[file:/C:/Users/Husnain/Desktop/DataEngineering/cleaning_data/DallasCouncilVoter..., PartitionFilters: [], PushedFilters: [], ReadSchema: struct<_c0:string,_c1:string,_c2:string>\n",
      "+- BroadcastExchange IdentityBroadcastMode, [id=#551]\n",
      "   +- *(4) HashAggregate(keys=[_c0#458, _c1#459, _c2#460], functions=[])\n",
      "      +- ReusedExchange [_c0#458, _c1#459, _c2#460], Exchange hashpartitioning(_c0#449, _c1#450, _c2#451, 500), ENSURE_REQUIREMENTS, [id=#520]\n",
      "\n",
      "\n"
     ]
    }
   ],
   "source": [
    "# Join the flights_df and aiports_df DataFrames\n",
    "normal_df = departures_df.join(departures_df)\n",
    "\n",
    "# Show the query plan\n",
    "normal_df.explain()\n"
   ]
  },
  {
   "cell_type": "code",
   "execution_count": 26,
   "id": "pending-thickness",
   "metadata": {
    "ExecuteTime": {
     "end_time": "2021-04-20T17:27:41.401041Z",
     "start_time": "2021-04-20T17:27:41.364160Z"
    }
   },
   "outputs": [
    {
     "name": "stdout",
     "output_type": "stream",
     "text": [
      "== Physical Plan ==\n",
      "BroadcastNestedLoopJoin BuildRight, Inner\n",
      ":- *(2) HashAggregate(keys=[_c0#449, _c1#450, _c2#451], functions=[])\n",
      ":  +- Exchange hashpartitioning(_c0#449, _c1#450, _c2#451, 500), ENSURE_REQUIREMENTS, [id=#593]\n",
      ":     +- *(1) HashAggregate(keys=[_c0#449, _c1#450, _c2#451], functions=[])\n",
      ":        +- FileScan csv [_c0#449,_c1#450,_c2#451] Batched: false, DataFilters: [], Format: CSV, Location: InMemoryFileIndex[file:/C:/Users/Husnain/Desktop/DataEngineering/cleaning_data/DallasCouncilVoter..., PartitionFilters: [], PushedFilters: [], ReadSchema: struct<_c0:string,_c1:string,_c2:string>\n",
      "+- BroadcastExchange IdentityBroadcastMode, [id=#624]\n",
      "   +- *(4) HashAggregate(keys=[_c0#467, _c1#468, _c2#469], functions=[])\n",
      "      +- ReusedExchange [_c0#467, _c1#468, _c2#469], Exchange hashpartitioning(_c0#449, _c1#450, _c2#451, 500), ENSURE_REQUIREMENTS, [id=#593]\n",
      "\n",
      "\n"
     ]
    }
   ],
   "source": [
    "# Import the broadcast method from pyspark.sql.functions\n",
    "from pyspark.sql.functions import broadcast\n",
    "\n",
    "# Join the flights_df and airports_df DataFrames using broadcasting\n",
    "broadcast_df = departures_df.join(broadcast(departures_df) )\n",
    "\n",
    "# Show the query plan and compare against the original\n",
    "broadcast_df.explain()"
   ]
  },
  {
   "cell_type": "raw",
   "id": "growing-scott",
   "metadata": {},
   "source": [
    "Complex processing and data pipelines\n"
   ]
  },
  {
   "cell_type": "code",
   "execution_count": 27,
   "id": "illegal-montana",
   "metadata": {
    "ExecuteTime": {
     "end_time": "2021-04-20T17:27:42.400853Z",
     "start_time": "2021-04-20T17:27:42.396865Z"
    }
   },
   "outputs": [],
   "source": [
    "path = 'cleaning_data/AA_DFW_2015_Departures_Short/AA_DFW_2015_Departures_Short.csv'"
   ]
  },
  {
   "cell_type": "code",
   "execution_count": 28,
   "id": "disciplinary-relationship",
   "metadata": {
    "ExecuteTime": {
     "end_time": "2021-04-20T17:27:42.917610Z",
     "start_time": "2021-04-20T17:27:42.773993Z"
    }
   },
   "outputs": [],
   "source": [
    "# Import the data to a DataFrame\n",
    "departures_df = spark.read.csv(path, header=True)\n",
    "# Remove any duration of 0\n",
    "departures_df = departures_df.filter(departures_df[3]>0)\n",
    "\n",
    "# Add an ID column\n",
    "departures_df = departures_df.withColumn('id', F.monotonically_increasing_id())\n",
    "\n",
    "# Write the file out to JSON format\n",
    "# departures_df.write.json(\"output.json\", mode='overwrite')\n"
   ]
  },
  {
   "cell_type": "code",
   "execution_count": null,
   "id": "christian-spare",
   "metadata": {
    "ExecuteTime": {
     "end_time": "2021-04-19T21:11:03.190119Z",
     "start_time": "2021-04-19T21:11:03.181182Z"
    }
   },
   "outputs": [],
   "source": []
  },
  {
   "cell_type": "code",
   "execution_count": 29,
   "id": "printable-finish",
   "metadata": {
    "ExecuteTime": {
     "end_time": "2021-04-20T17:27:44.005028Z",
     "start_time": "2021-04-20T17:27:43.917265Z"
    }
   },
   "outputs": [
    {
     "name": "stdout",
     "output_type": "stream",
     "text": [
      "+-----------------+-------------+-------------------+-----------------------------+---+\n",
      "|Date (MM/DD/YYYY)|Flight Number|Destination Airport|Actual elapsed time (Minutes)| id|\n",
      "+-----------------+-------------+-------------------+-----------------------------+---+\n",
      "|       01/01/2015|         0005|                HNL|                          526|  0|\n",
      "|       01/01/2015|         0007|                OGG|                          517|  1|\n",
      "|       01/01/2015|         0023|                SFO|                          233|  2|\n",
      "|       01/01/2015|         0027|                LAS|                          165|  3|\n",
      "|       01/01/2015|         0035|                HDN|                          178|  4|\n",
      "+-----------------+-------------+-------------------+-----------------------------+---+\n",
      "only showing top 5 rows\n",
      "\n"
     ]
    }
   ],
   "source": [
    "departures_df.show(5)"
   ]
  },
  {
   "cell_type": "code",
   "execution_count": null,
   "id": "revised-turner",
   "metadata": {},
   "outputs": [],
   "source": []
  },
  {
   "cell_type": "code",
   "execution_count": null,
   "id": "congressional-yukon",
   "metadata": {},
   "outputs": [],
   "source": []
  },
  {
   "cell_type": "code",
   "execution_count": null,
   "id": "brown-greece",
   "metadata": {},
   "outputs": [],
   "source": []
  }
 ],
 "metadata": {
  "kernelspec": {
   "display_name": "Python 3",
   "language": "python",
   "name": "python3"
  },
  "language_info": {
   "codemirror_mode": {
    "name": "ipython",
    "version": 3
   },
   "file_extension": ".py",
   "mimetype": "text/x-python",
   "name": "python",
   "nbconvert_exporter": "python",
   "pygments_lexer": "ipython3",
   "version": "3.7.8"
  }
 },
 "nbformat": 4,
 "nbformat_minor": 5
}
